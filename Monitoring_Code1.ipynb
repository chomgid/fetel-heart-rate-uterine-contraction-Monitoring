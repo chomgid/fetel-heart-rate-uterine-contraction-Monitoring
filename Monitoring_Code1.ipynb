{
  "nbformat": 4,
  "nbformat_minor": 0,
  "metadata": {
    "colab": {
      "provenance": [],
      "collapsed_sections": []
    },
    "kernelspec": {
      "name": "python3",
      "display_name": "Python 3"
    },
    "language_info": {
      "name": "python"
    }
  },
  "cells": [
    {
      "cell_type": "code",
      "execution_count": 31,
      "metadata": {
        "colab": {
          "base_uri": "https://localhost:8080/"
        },
        "id": "x6avGEkLye6t",
        "outputId": "fcf61cca-a1cf-425d-c03e-b3cb2507915a"
      },
      "outputs": [
        {
          "output_type": "stream",
          "name": "stdout",
          "text": [
            "Drive already mounted at /content/drive; to attempt to forcibly remount, call drive.mount(\"/content/drive\", force_remount=True).\n"
          ]
        }
      ],
      "source": [
        "from google.colab import drive\n",
        "drive.mount('/content/drive')"
      ]
    },
    {
      "cell_type": "code",
      "source": [
        "!pip install torchmetrics\n",
        "import os\n",
        "import json\n",
        "\n",
        "import numpy as np\n",
        "import pandas as pd\n",
        "import torch\n",
        "from torch import nn\n",
        "from torch.utils.data import TensorDataset, DataLoader\n",
        "from torchmetrics import Accuracy\n",
        "from easydict import EasyDict\n",
        "\n",
        "\n",
        "# Visualization\n",
        "import seaborn as sns\n",
        "import matplotlib.pyplot as plt\n",
        "%matplotlib inline"
      ],
      "metadata": {
        "colab": {
          "base_uri": "https://localhost:8080/"
        },
        "id": "72ap9ldUygAh",
        "outputId": "61b3fccb-61f3-411c-d496-74b2022a0d3a"
      },
      "execution_count": 69,
      "outputs": [
        {
          "output_type": "stream",
          "name": "stdout",
          "text": [
            "Looking in indexes: https://pypi.org/simple, https://us-python.pkg.dev/colab-wheels/public/simple/\n",
            "Requirement already satisfied: torchmetrics in /usr/local/lib/python3.7/dist-packages (0.10.2)\n",
            "Requirement already satisfied: numpy>=1.17.2 in /usr/local/lib/python3.7/dist-packages (from torchmetrics) (1.21.6)\n",
            "Requirement already satisfied: packaging in /usr/local/lib/python3.7/dist-packages (from torchmetrics) (21.3)\n",
            "Requirement already satisfied: typing-extensions in /usr/local/lib/python3.7/dist-packages (from torchmetrics) (4.1.1)\n",
            "Requirement already satisfied: torch>=1.3.1 in /usr/local/lib/python3.7/dist-packages (from torchmetrics) (1.12.1+cu113)\n",
            "Requirement already satisfied: pyparsing!=3.0.5,>=2.0.2 in /usr/local/lib/python3.7/dist-packages (from packaging->torchmetrics) (3.0.9)\n"
          ]
        }
      ]
    },
    {
      "cell_type": "markdown",
      "source": [
        "데이터들을 npy 형태로 불러옴"
      ],
      "metadata": {
        "id": "XJxupQG7tfP-"
      }
    },
    {
      "cell_type": "code",
      "source": [
        "data = np.load('drive/MyDrive/monitoring_dataset_distributed.npy')\n",
        "\n",
        "train_x = data[\"train_x\"]\n",
        "train_y = data[\"train_y\"]\n",
        "test_x = data[\"test_x\"]"
      ],
      "metadata": {
        "id": "CaVvDvvjyrVo"
      },
      "execution_count": 90,
      "outputs": []
    },
    {
      "cell_type": "code",
      "source": [
        "type(train_x)"
      ],
      "metadata": {
        "colab": {
          "base_uri": "https://localhost:8080/"
        },
        "id": "LL2X-cF8tctQ",
        "outputId": "9fedd650-bdee-4268-897b-3489ede12d52"
      },
      "execution_count": 91,
      "outputs": [
        {
          "output_type": "execute_result",
          "data": {
            "text/plain": [
              "numpy.ndarray"
            ]
          },
          "metadata": {},
          "execution_count": 91
        }
      ]
    },
    {
      "cell_type": "code",
      "source": [
        "from sklearn.model_selection import train_test_split\n",
        "\n",
        "x_train, x_valid, y_train, y_valid = train_test_split(train_x, train_y, random_state = 14)"
      ],
      "metadata": {
        "id": "s4IDvQNL4lge"
      },
      "execution_count": 92,
      "outputs": []
    },
    {
      "cell_type": "code",
      "source": [
        "x_train, y_train, x_valid, y_valid = map(torch.tensor, (x_train, y_train, x_valid, y_valid))\n"
      ],
      "metadata": {
        "id": "kFGChP6knRDt"
      },
      "execution_count": 93,
      "outputs": []
    },
    {
      "cell_type": "code",
      "source": [
        "bs = 64\n",
        "\n",
        "train_ds = TensorDataset(x_train, y_train)\n",
        "train_dl = DataLoader(train_ds, batch_size=bs, shuffle=True)\n",
        "\n",
        "valid_ds = TensorDataset(x_valid, y_valid)\n",
        "valid_dl = DataLoader(valid_ds, batch_size = 100)\n",
        "\n",
        "test_x = torch.tensor(test_x)\n",
        "test_dataset = TensorDataset(test_x)\n",
        "test_dl = DataLoader(test_dataset, batch_size=bs, shuffle=False)"
      ],
      "metadata": {
        "id": "7aoIsiNEY0Oi"
      },
      "execution_count": 94,
      "outputs": []
    },
    {
      "cell_type": "markdown",
      "source": [
        "\n",
        "#### Model 1 (given model)"
      ],
      "metadata": {
        "id": "PPGnzTaQmVYg"
      }
    },
    {
      "cell_type": "code",
      "source": [
        "cfg = EasyDict({\n",
        "    'dataset_path': 'drive/MyDrive/monitoring_dataset_distributed.npy',\n",
        "    'epochs': 100,\n",
        "    'lr': 0.1,\n",
        "    'weight_decay': 0.0001,\n",
        "    'momentum': 0.9,\n",
        "    'threshold': 0.5,\n",
        "    'valid_size' : 100\n",
        "})"
      ],
      "metadata": {
        "id": "k8GuIDwRSktK"
      },
      "execution_count": 95,
      "outputs": []
    },
    {
      "cell_type": "code",
      "source": [
        "class BnLinAct(nn.Module):\n",
        "    def __init__(self, in_dim, out_dim, activation=nn.ReLU, bias=False):\n",
        "        super().__init__()\n",
        "        self.seq = nn.Sequential(\n",
        "            nn.BatchNorm1d(in_dim),\n",
        "            nn.Linear(in_dim, out_dim, bias=bias),\n",
        "            activation(inplace=True),\n",
        "        )\n",
        "\n",
        "    def forward(self, x):\n",
        "        return self.seq(x)\n",
        "\n",
        "class SimpleNet(nn.Module):\n",
        "    def __init__(self):\n",
        "        super().__init__()\n",
        "        self.seq = nn.Sequential(\n",
        "            BnLinAct(3900, 1024),\n",
        "            nn.Dropout(0.1),\n",
        "            BnLinAct(1024, 256),\n",
        "            nn.Dropout(0.1),\n",
        "            nn.Linear(256, 1),\n",
        "        )\n",
        "    def forward(self, x):\n",
        "        return self.seq(x)"
      ],
      "metadata": {
        "id": "7OmmauH-k1fT"
      },
      "execution_count": 96,
      "outputs": []
    },
    {
      "cell_type": "code",
      "source": [
        "device = torch.device('cuda') if torch.cuda.is_available() else torch.device('cpu')\n",
        "model = SimpleNet().to(device)\n",
        "criterion = nn.BCEWithLogitsLoss()\n",
        "optimizer = torch.optim.SGD(model.parameters(), lr=0.1, weight_decay=0.0001, momentum=0.9)\n",
        "scheduler = torch.optim.lr_scheduler.LambdaLR(optimizer=optimizer, lr_lambda=lambda x: 0.95 ** x, last_epoch=-1)\n",
        "accuracy_meter = Accuracy(threshold=0.5).to(device)"
      ],
      "metadata": {
        "id": "5-wbxAXJmqUj"
      },
      "execution_count": 97,
      "outputs": []
    },
    {
      "cell_type": "code",
      "source": [
        "loss_func = torch.nn.functional.binary_cross_entropy"
      ],
      "metadata": {
        "id": "9xkmToS-tZAu"
      },
      "execution_count": 98,
      "outputs": []
    },
    {
      "cell_type": "code",
      "source": [
        "for epoch in range(cfg.epochs):\n",
        "    accuracy_meter.reset()\n",
        "    for i, item in enumerate(train_dl):\n",
        "        x, y = item[0].to(device), item[1].to(device)\n",
        "        y_hat = model(x).squeeze(-1)\n",
        "        loss = criterion(y_hat, y.float())\n",
        "\n",
        "        optimizer.zero_grad()\n",
        "        loss.backward()\n",
        "        optimizer.step()\n",
        "\n",
        "        accuracy_meter.update(torch.sigmoid(y_hat), y)\n",
        "    with torch.no_grad():\n",
        "      for xv, yv in valid_dl:\n",
        "        valid_loss =  criterion(model(xv).squeeze(-1), yv.float())\n",
        "    scheduler.step()\n",
        "    if (epoch+1) % 10 == 0:\n",
        "        print(f'Epoch[{epoch+1}] Acc:{accuracy_meter.compute() * 100:.2f} Valid_loss:{valid_loss/cfg.valid_size}', )\n",
        "\n",
        "model.eval()\n",
        "accuracy_meter.reset()\n",
        "predict_list = list()\n",
        "\n",
        "# for item in test_dl:\n",
        "#     x = item[0].to(device)\n",
        "#     y_hat = model(x).squeeze(-1)\n",
        "\n",
        "#     predict= (torch.sigmoid(y_hat) > cfg.threshold).float().detach().cpu().tolist()\n",
        "#     predict_list.extend(predict)\n",
        " \n",
        "# df = pd.DataFrame({'pred': predict_list})\n",
        "# df.to_csv('submission.csv',header=True, index=True, index_label='idx')"
      ],
      "metadata": {
        "colab": {
          "base_uri": "https://localhost:8080/"
        },
        "id": "GmcJ2g7-l5Qd",
        "outputId": "1d776940-2297-4611-e868-fed196016e4a"
      },
      "execution_count": 99,
      "outputs": [
        {
          "output_type": "stream",
          "name": "stdout",
          "text": [
            "Epoch[10] Acc:89.33 Valid_loss:0.016004126518964767\n",
            "Epoch[20] Acc:97.00 Valid_loss:0.02253871038556099\n",
            "Epoch[30] Acc:99.00 Valid_loss:0.025566844269633293\n",
            "Epoch[40] Acc:99.67 Valid_loss:0.027510009706020355\n",
            "Epoch[50] Acc:99.67 Valid_loss:0.02828184887766838\n",
            "Epoch[60] Acc:100.00 Valid_loss:0.027285318821668625\n",
            "Epoch[70] Acc:99.67 Valid_loss:0.028457431122660637\n",
            "Epoch[80] Acc:99.67 Valid_loss:0.029017455875873566\n",
            "Epoch[90] Acc:100.00 Valid_loss:0.029224887490272522\n",
            "Epoch[100] Acc:100.00 Valid_loss:0.028455136343836784\n"
          ]
        }
      ]
    },
    {
      "cell_type": "code",
      "source": [],
      "metadata": {
        "id": "VwMT4MRdU02D"
      },
      "execution_count": null,
      "outputs": []
    }
  ]
}